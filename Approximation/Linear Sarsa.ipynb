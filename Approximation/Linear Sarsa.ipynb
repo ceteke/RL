{
 "cells": [
  {
   "cell_type": "markdown",
   "metadata": {},
   "source": [
    "# Linear Approximation SARSA\n",
    "\n",
    "This is the implementation of Linear SARSA. Instead of holding the Q values in a table, we approximate them with a linear -parameterized- function. At each iteration we update the parameter with respect to the gradient of the expected return after an action is selected. The action is selected as $argmax (w^Tx)$ then the gradient is calculated with respect to the selected action. You can edit the ```approx``` function the way you like as long as it outputs a vector of size 2."
   ]
  },
  {
   "cell_type": "code",
   "execution_count": 1,
   "metadata": {},
   "outputs": [],
   "source": [
    "import autograd.numpy as np\n",
    "import gym\n",
    "import matplotlib.pyplot as plt\n",
    "from autograd import grad, elementwise_grad\n",
    "import random\n",
    "from IPython import display"
   ]
  },
  {
   "cell_type": "code",
   "execution_count": 138,
   "metadata": {},
   "outputs": [],
   "source": [
    "# Linear approximation function to expected returns\n",
    "def approx(weights, state, action):\n",
    "    return np.dot(state, weights)[action]\n",
    "\n",
    "def policy(env, weights, state, epsilon):\n",
    "    actions = [0, 1]\n",
    "    if np.random.rand() < epsilon:\n",
    "        return random.choice(actions)\n",
    "    qs = []\n",
    "    for action in actions:\n",
    "        qs.append(approx(weights, state, action))\n",
    "    return np.argmax(qs)\n",
    "\n",
    "dapprox = grad(approx)\n",
    "episodes = 1000\n",
    "discount = 1.0\n",
    "epsilon = 0.2\n",
    "alpha = 0.1"
   ]
  },
  {
   "cell_type": "code",
   "execution_count": 142,
   "metadata": {},
   "outputs": [
    {
     "name": "stdout",
     "output_type": "stream",
     "text": [
      "\u001b[33mWARN: gym.spaces.Box autodetected dtype as <class 'numpy.float32'>. Please provide explicit dtype.\u001b[0m\n"
     ]
    }
   ],
   "source": [
    "env = gym.make('CartPole-v0')\n",
    "episode_rewards = []\n",
    "w = np.zeros((4,2))\n",
    "for e in range(episodes):\n",
    "    state = env.reset()\n",
    "    rewards = []\n",
    "    while True:\n",
    "        action = policy(env, w, state, epsilon)\n",
    "        q_hat = approx(w, state, action)\n",
    "        q_hat_grad = dapprox(w, state, action)\n",
    "        next_state, reward, done, _ = env.step(action)\n",
    "        rewards.append(reward)\n",
    "        if done:\n",
    "            w += alpha*(reward - q_hat) * q_hat_grad\n",
    "            break\n",
    "        else:\n",
    "            next_action = policy(env, w, next_state, epsilon)\n",
    "            q_hat_next = approx(w, next_state, next_action)\n",
    "            w += alpha*(reward + discount*q_hat_next - q_hat)*q_hat_grad\n",
    "            state = next_state\n",
    "    if e == 100:\n",
    "        epsilon /= 2\n",
    "    episode_rewards.append(np.sum(rewards))"
   ]
  },
  {
   "cell_type": "code",
   "execution_count": 143,
   "metadata": {},
   "outputs": [
    {
     "name": "stdout",
     "output_type": "stream",
     "text": [
      "Episodes before solve 99\n"
     ]
    }
   ],
   "source": [
    "for i, r in enumerate(episode_rewards):\n",
    "    if i + 100 >= len(episode_rewards):\n",
    "        break\n",
    "    else:\n",
    "        mean = np.mean(episode_rewards[i:i+100])\n",
    "        if mean >= 195:\n",
    "            print(\"Episodes before solve\", i+1)\n",
    "            break"
   ]
  },
  {
   "cell_type": "code",
   "execution_count": 144,
   "metadata": {},
   "outputs": [
    {
     "data": {
      "text/plain": [
       "[<matplotlib.lines.Line2D at 0x11a96c2e8>]"
      ]
     },
     "execution_count": 144,
     "metadata": {},
     "output_type": "execute_result"
    },
    {
     "data": {
      "image/png": "[encoded data removed]",
      "text/plain": [
       "<matplotlib.figure.Figure at 0x1199624a8>"
      ]
     },
     "metadata": {},
     "output_type": "display_data"
    }
   ],
   "source": [
    "plt.plot(episode_rewards)"
   ]
  },
  {
   "cell_type": "code",
   "execution_count": 145,
   "metadata": {},
   "outputs": [
    {
     "data": {
      "image/png": "[encoded data removed]",
      "text/plain": [
       "<matplotlib.figure.Figure at 0x10ff4a6d8>"
      ]
     },
     "metadata": {},
     "output_type": "display_data"
    },
    {
     "data": {
      "image/png": "[encoded data removed]",
      "text/plain": [
       "<matplotlib.figure.Figure at 0x10ff4a6d8>"
      ]
     },
     "metadata": {},
     "output_type": "display_data"
    }
   ],
   "source": [
    "def show_state(env, step=0):\n",
    "    plt.figure(3)\n",
    "    plt.clf()\n",
    "    plt.imshow(env.render(mode='rgb_array'))\n",
    "    plt.title(\"Step: %d\" % (step))\n",
    "    \n",
    "    plt.pause(0.001)  # pause for plots to update\n",
    "    \n",
    "    display.clear_output(wait=True)\n",
    "    display.display(plt.gcf())\n",
    "        \n",
    "done = False\n",
    "state = env.reset()\n",
    "step = 0\n",
    "while not done:\n",
    "    step += 1\n",
    "    show_state(env, step)\n",
    "    action = policy(env, w, state, 0.0)\n",
    "    state, _, done, _ = env.step(action)"
   ]
  },
  {
   "cell_type": "code",
   "execution_count": null,
   "metadata": {},
   "outputs": [],
   "source": []
  }
 ],
 "metadata": {
  "kernelspec": {
   "display_name": "Python 3",
   "language": "python",
   "name": "python3"
  },
  "language_info": {
   "codemirror_mode": {
    "name": "ipython",
    "version": 3
   },
   "file_extension": ".py",
   "mimetype": "text/x-python",
   "name": "python",
   "nbconvert_exporter": "python",
   "pygments_lexer": "ipython3",
   "version": "3.6.8"
  }
 },
 "nbformat": 4,
 "nbformat_minor": 2
}
